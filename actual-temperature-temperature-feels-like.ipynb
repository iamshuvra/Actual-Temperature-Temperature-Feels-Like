{
 "cells": [
  {
   "cell_type": "markdown",
   "id": "swiss-evolution",
   "metadata": {
    "id": "bT7u2A6DPRsT",
    "papermill": {
     "duration": 0.013189,
     "end_time": "2021-06-13T22:54:22.339449",
     "exception": false,
     "start_time": "2021-06-13T22:54:22.326260",
     "status": "completed"
    },
    "tags": []
   },
   "source": [
    "I'm going to predict the actual temperature & what's our human body feels like in that actual temperature using PyTorch. For that, I have several features called Humidity, Pressures, Wind Speed, Wind Bearing."
   ]
  },
  {
   "cell_type": "code",
   "execution_count": 1,
   "id": "confident-thanksgiving",
   "metadata": {
    "execution": {
     "iopub.execute_input": "2021-06-13T22:54:22.376219Z",
     "iopub.status.busy": "2021-06-13T22:54:22.374513Z",
     "iopub.status.idle": "2021-06-13T22:54:24.307882Z",
     "shell.execute_reply": "2021-06-13T22:54:24.306814Z",
     "shell.execute_reply.started": "2021-06-13T22:53:30.067028Z"
    },
    "id": "ZABkAlNnRnPs",
    "papermill": {
     "duration": 1.9551,
     "end_time": "2021-06-13T22:54:24.308034",
     "exception": false,
     "start_time": "2021-06-13T22:54:22.352934",
     "status": "completed"
    },
    "tags": []
   },
   "outputs": [],
   "source": [
    "import pandas as pd\n",
    "import numpy as np\n",
    "import torch\n",
    "data = pd.read_csv('../input/szeged-weather/weatherHistory.csv')"
   ]
  },
  {
   "cell_type": "markdown",
   "id": "artistic-ability",
   "metadata": {
    "id": "fB3pnz9v6NSO",
    "papermill": {
     "duration": 0.013754,
     "end_time": "2021-06-13T22:54:24.334924",
     "exception": false,
     "start_time": "2021-06-13T22:54:24.321170",
     "status": "completed"
    },
    "tags": []
   },
   "source": [
    "# **Without Build-In Functions**"
   ]
  },
  {
   "cell_type": "code",
   "execution_count": 2,
   "id": "declared-arkansas",
   "metadata": {
    "execution": {
     "iopub.execute_input": "2021-06-13T22:54:24.381566Z",
     "iopub.status.busy": "2021-06-13T22:54:24.381007Z",
     "iopub.status.idle": "2021-06-13T22:54:24.425253Z",
     "shell.execute_reply": "2021-06-13T22:54:24.424823Z",
     "shell.execute_reply.started": "2021-06-13T22:53:30.393259Z"
    },
    "id": "HyK6bdTiRxe_",
    "papermill": {
     "duration": 0.076401,
     "end_time": "2021-06-13T22:54:24.425372",
     "exception": false,
     "start_time": "2021-06-13T22:54:24.348971",
     "status": "completed"
    },
    "tags": []
   },
   "outputs": [
    {
     "data": {
      "text/html": [
       "<div>\n",
       "<style scoped>\n",
       "    .dataframe tbody tr th:only-of-type {\n",
       "        vertical-align: middle;\n",
       "    }\n",
       "\n",
       "    .dataframe tbody tr th {\n",
       "        vertical-align: top;\n",
       "    }\n",
       "\n",
       "    .dataframe thead th {\n",
       "        text-align: right;\n",
       "    }\n",
       "</style>\n",
       "<table border=\"1\" class=\"dataframe\">\n",
       "  <thead>\n",
       "    <tr style=\"text-align: right;\">\n",
       "      <th></th>\n",
       "      <th>Formatted Date</th>\n",
       "      <th>Summary</th>\n",
       "      <th>Precip Type</th>\n",
       "      <th>Temperature (C)</th>\n",
       "      <th>Apparent Temperature (C)</th>\n",
       "      <th>Humidity</th>\n",
       "      <th>Wind Speed (km/h)</th>\n",
       "      <th>Wind Bearing (degrees)</th>\n",
       "      <th>Visibility (km)</th>\n",
       "      <th>Loud Cover</th>\n",
       "      <th>Pressure (millibars)</th>\n",
       "      <th>Daily Summary</th>\n",
       "    </tr>\n",
       "  </thead>\n",
       "  <tbody>\n",
       "    <tr>\n",
       "      <th>0</th>\n",
       "      <td>2006-04-01 00:00:00.000 +0200</td>\n",
       "      <td>Partly Cloudy</td>\n",
       "      <td>rain</td>\n",
       "      <td>9.472222</td>\n",
       "      <td>7.388889</td>\n",
       "      <td>0.89</td>\n",
       "      <td>14.1197</td>\n",
       "      <td>251.0</td>\n",
       "      <td>15.8263</td>\n",
       "      <td>0.0</td>\n",
       "      <td>1015.13</td>\n",
       "      <td>Partly cloudy throughout the day.</td>\n",
       "    </tr>\n",
       "    <tr>\n",
       "      <th>1</th>\n",
       "      <td>2006-04-01 01:00:00.000 +0200</td>\n",
       "      <td>Partly Cloudy</td>\n",
       "      <td>rain</td>\n",
       "      <td>9.355556</td>\n",
       "      <td>7.227778</td>\n",
       "      <td>0.86</td>\n",
       "      <td>14.2646</td>\n",
       "      <td>259.0</td>\n",
       "      <td>15.8263</td>\n",
       "      <td>0.0</td>\n",
       "      <td>1015.63</td>\n",
       "      <td>Partly cloudy throughout the day.</td>\n",
       "    </tr>\n",
       "    <tr>\n",
       "      <th>2</th>\n",
       "      <td>2006-04-01 02:00:00.000 +0200</td>\n",
       "      <td>Mostly Cloudy</td>\n",
       "      <td>rain</td>\n",
       "      <td>9.377778</td>\n",
       "      <td>9.377778</td>\n",
       "      <td>0.89</td>\n",
       "      <td>3.9284</td>\n",
       "      <td>204.0</td>\n",
       "      <td>14.9569</td>\n",
       "      <td>0.0</td>\n",
       "      <td>1015.94</td>\n",
       "      <td>Partly cloudy throughout the day.</td>\n",
       "    </tr>\n",
       "    <tr>\n",
       "      <th>3</th>\n",
       "      <td>2006-04-01 03:00:00.000 +0200</td>\n",
       "      <td>Partly Cloudy</td>\n",
       "      <td>rain</td>\n",
       "      <td>8.288889</td>\n",
       "      <td>5.944444</td>\n",
       "      <td>0.83</td>\n",
       "      <td>14.1036</td>\n",
       "      <td>269.0</td>\n",
       "      <td>15.8263</td>\n",
       "      <td>0.0</td>\n",
       "      <td>1016.41</td>\n",
       "      <td>Partly cloudy throughout the day.</td>\n",
       "    </tr>\n",
       "    <tr>\n",
       "      <th>4</th>\n",
       "      <td>2006-04-01 04:00:00.000 +0200</td>\n",
       "      <td>Mostly Cloudy</td>\n",
       "      <td>rain</td>\n",
       "      <td>8.755556</td>\n",
       "      <td>6.977778</td>\n",
       "      <td>0.83</td>\n",
       "      <td>11.0446</td>\n",
       "      <td>259.0</td>\n",
       "      <td>15.8263</td>\n",
       "      <td>0.0</td>\n",
       "      <td>1016.51</td>\n",
       "      <td>Partly cloudy throughout the day.</td>\n",
       "    </tr>\n",
       "    <tr>\n",
       "      <th>...</th>\n",
       "      <td>...</td>\n",
       "      <td>...</td>\n",
       "      <td>...</td>\n",
       "      <td>...</td>\n",
       "      <td>...</td>\n",
       "      <td>...</td>\n",
       "      <td>...</td>\n",
       "      <td>...</td>\n",
       "      <td>...</td>\n",
       "      <td>...</td>\n",
       "      <td>...</td>\n",
       "      <td>...</td>\n",
       "    </tr>\n",
       "    <tr>\n",
       "      <th>96448</th>\n",
       "      <td>2016-09-09 19:00:00.000 +0200</td>\n",
       "      <td>Partly Cloudy</td>\n",
       "      <td>rain</td>\n",
       "      <td>26.016667</td>\n",
       "      <td>26.016667</td>\n",
       "      <td>0.43</td>\n",
       "      <td>10.9963</td>\n",
       "      <td>31.0</td>\n",
       "      <td>16.1000</td>\n",
       "      <td>0.0</td>\n",
       "      <td>1014.36</td>\n",
       "      <td>Partly cloudy starting in the morning.</td>\n",
       "    </tr>\n",
       "    <tr>\n",
       "      <th>96449</th>\n",
       "      <td>2016-09-09 20:00:00.000 +0200</td>\n",
       "      <td>Partly Cloudy</td>\n",
       "      <td>rain</td>\n",
       "      <td>24.583333</td>\n",
       "      <td>24.583333</td>\n",
       "      <td>0.48</td>\n",
       "      <td>10.0947</td>\n",
       "      <td>20.0</td>\n",
       "      <td>15.5526</td>\n",
       "      <td>0.0</td>\n",
       "      <td>1015.16</td>\n",
       "      <td>Partly cloudy starting in the morning.</td>\n",
       "    </tr>\n",
       "    <tr>\n",
       "      <th>96450</th>\n",
       "      <td>2016-09-09 21:00:00.000 +0200</td>\n",
       "      <td>Partly Cloudy</td>\n",
       "      <td>rain</td>\n",
       "      <td>22.038889</td>\n",
       "      <td>22.038889</td>\n",
       "      <td>0.56</td>\n",
       "      <td>8.9838</td>\n",
       "      <td>30.0</td>\n",
       "      <td>16.1000</td>\n",
       "      <td>0.0</td>\n",
       "      <td>1015.66</td>\n",
       "      <td>Partly cloudy starting in the morning.</td>\n",
       "    </tr>\n",
       "    <tr>\n",
       "      <th>96451</th>\n",
       "      <td>2016-09-09 22:00:00.000 +0200</td>\n",
       "      <td>Partly Cloudy</td>\n",
       "      <td>rain</td>\n",
       "      <td>21.522222</td>\n",
       "      <td>21.522222</td>\n",
       "      <td>0.60</td>\n",
       "      <td>10.5294</td>\n",
       "      <td>20.0</td>\n",
       "      <td>16.1000</td>\n",
       "      <td>0.0</td>\n",
       "      <td>1015.95</td>\n",
       "      <td>Partly cloudy starting in the morning.</td>\n",
       "    </tr>\n",
       "    <tr>\n",
       "      <th>96452</th>\n",
       "      <td>2016-09-09 23:00:00.000 +0200</td>\n",
       "      <td>Partly Cloudy</td>\n",
       "      <td>rain</td>\n",
       "      <td>20.438889</td>\n",
       "      <td>20.438889</td>\n",
       "      <td>0.61</td>\n",
       "      <td>5.8765</td>\n",
       "      <td>39.0</td>\n",
       "      <td>15.5204</td>\n",
       "      <td>0.0</td>\n",
       "      <td>1016.16</td>\n",
       "      <td>Partly cloudy starting in the morning.</td>\n",
       "    </tr>\n",
       "  </tbody>\n",
       "</table>\n",
       "<p>96453 rows × 12 columns</p>\n",
       "</div>"
      ],
      "text/plain": [
       "                      Formatted Date        Summary Precip Type  \\\n",
       "0      2006-04-01 00:00:00.000 +0200  Partly Cloudy        rain   \n",
       "1      2006-04-01 01:00:00.000 +0200  Partly Cloudy        rain   \n",
       "2      2006-04-01 02:00:00.000 +0200  Mostly Cloudy        rain   \n",
       "3      2006-04-01 03:00:00.000 +0200  Partly Cloudy        rain   \n",
       "4      2006-04-01 04:00:00.000 +0200  Mostly Cloudy        rain   \n",
       "...                              ...            ...         ...   \n",
       "96448  2016-09-09 19:00:00.000 +0200  Partly Cloudy        rain   \n",
       "96449  2016-09-09 20:00:00.000 +0200  Partly Cloudy        rain   \n",
       "96450  2016-09-09 21:00:00.000 +0200  Partly Cloudy        rain   \n",
       "96451  2016-09-09 22:00:00.000 +0200  Partly Cloudy        rain   \n",
       "96452  2016-09-09 23:00:00.000 +0200  Partly Cloudy        rain   \n",
       "\n",
       "       Temperature (C)  Apparent Temperature (C)  Humidity  Wind Speed (km/h)  \\\n",
       "0             9.472222                  7.388889      0.89            14.1197   \n",
       "1             9.355556                  7.227778      0.86            14.2646   \n",
       "2             9.377778                  9.377778      0.89             3.9284   \n",
       "3             8.288889                  5.944444      0.83            14.1036   \n",
       "4             8.755556                  6.977778      0.83            11.0446   \n",
       "...                ...                       ...       ...                ...   \n",
       "96448        26.016667                 26.016667      0.43            10.9963   \n",
       "96449        24.583333                 24.583333      0.48            10.0947   \n",
       "96450        22.038889                 22.038889      0.56             8.9838   \n",
       "96451        21.522222                 21.522222      0.60            10.5294   \n",
       "96452        20.438889                 20.438889      0.61             5.8765   \n",
       "\n",
       "       Wind Bearing (degrees)  Visibility (km)  Loud Cover  \\\n",
       "0                       251.0          15.8263         0.0   \n",
       "1                       259.0          15.8263         0.0   \n",
       "2                       204.0          14.9569         0.0   \n",
       "3                       269.0          15.8263         0.0   \n",
       "4                       259.0          15.8263         0.0   \n",
       "...                       ...              ...         ...   \n",
       "96448                    31.0          16.1000         0.0   \n",
       "96449                    20.0          15.5526         0.0   \n",
       "96450                    30.0          16.1000         0.0   \n",
       "96451                    20.0          16.1000         0.0   \n",
       "96452                    39.0          15.5204         0.0   \n",
       "\n",
       "       Pressure (millibars)                           Daily Summary  \n",
       "0                   1015.13       Partly cloudy throughout the day.  \n",
       "1                   1015.63       Partly cloudy throughout the day.  \n",
       "2                   1015.94       Partly cloudy throughout the day.  \n",
       "3                   1016.41       Partly cloudy throughout the day.  \n",
       "4                   1016.51       Partly cloudy throughout the day.  \n",
       "...                     ...                                     ...  \n",
       "96448               1014.36  Partly cloudy starting in the morning.  \n",
       "96449               1015.16  Partly cloudy starting in the morning.  \n",
       "96450               1015.66  Partly cloudy starting in the morning.  \n",
       "96451               1015.95  Partly cloudy starting in the morning.  \n",
       "96452               1016.16  Partly cloudy starting in the morning.  \n",
       "\n",
       "[96453 rows x 12 columns]"
      ]
     },
     "metadata": {},
     "output_type": "display_data"
    }
   ],
   "source": [
    "display(data)"
   ]
  },
  {
   "cell_type": "code",
   "execution_count": 3,
   "id": "organic-particle",
   "metadata": {
    "execution": {
     "iopub.execute_input": "2021-06-13T22:54:24.461448Z",
     "iopub.status.busy": "2021-06-13T22:54:24.460906Z",
     "iopub.status.idle": "2021-06-13T22:54:24.466799Z",
     "shell.execute_reply": "2021-06-13T22:54:24.466095Z",
     "shell.execute_reply.started": "2021-06-13T22:53:30.427266Z"
    },
    "id": "z239p5zkTlCb",
    "outputId": "9ff0c6a4-ed79-45a5-ef83-c5fe2d3e1792",
    "papermill": {
     "duration": 0.028487,
     "end_time": "2021-06-13T22:54:24.466962",
     "exception": false,
     "start_time": "2021-06-13T22:54:24.438475",
     "status": "completed"
    },
    "tags": []
   },
   "outputs": [
    {
     "name": "stdout",
     "output_type": "stream",
     "text": [
      "[[8.90000e-01 1.01513e+03 1.41197e+01 2.51000e+02]\n",
      " [8.60000e-01 1.01563e+03 1.42646e+01 2.59000e+02]\n",
      " [8.90000e-01 1.01594e+03 3.92840e+00 2.04000e+02]\n",
      " ...\n",
      " [5.60000e-01 1.01566e+03 8.98380e+00 3.00000e+01]\n",
      " [6.00000e-01 1.01595e+03 1.05294e+01 2.00000e+01]\n",
      " [6.10000e-01 1.01616e+03 5.87650e+00 3.90000e+01]]\n"
     ]
    }
   ],
   "source": [
    "input = np.array([data['Humidity'], data['Pressure (millibars)'],\n",
    "                 data['Wind Speed (km/h)'], data['Wind Bearing (degrees)']],\n",
    "                 dtype=\"float32\").T\n",
    "print(input)"
   ]
  },
  {
   "cell_type": "code",
   "execution_count": 4,
   "id": "legal-symbol",
   "metadata": {
    "execution": {
     "iopub.execute_input": "2021-06-13T22:54:24.505873Z",
     "iopub.status.busy": "2021-06-13T22:54:24.505036Z",
     "iopub.status.idle": "2021-06-13T22:54:24.511697Z",
     "shell.execute_reply": "2021-06-13T22:54:24.510917Z",
     "shell.execute_reply.started": "2021-06-13T22:53:30.439851Z"
    },
    "id": "WMFGyUuSWIwf",
    "outputId": "b0ee3f86-2714-48cb-d6aa-6d87ad2f35bd",
    "papermill": {
     "duration": 0.027065,
     "end_time": "2021-06-13T22:54:24.511874",
     "exception": false,
     "start_time": "2021-06-13T22:54:24.484809",
     "status": "completed"
    },
    "tags": []
   },
   "outputs": [
    {
     "name": "stdout",
     "output_type": "stream",
     "text": [
      "[[ 7.388889  9.472222]\n",
      " [ 7.227778  9.355556]\n",
      " [ 9.377778  9.377778]\n",
      " ...\n",
      " [22.038889 22.038889]\n",
      " [21.522223 21.522223]\n",
      " [20.438889 20.438889]]\n"
     ]
    }
   ],
   "source": [
    "target = np.array([data['Apparent Temperature (C)'], data['Temperature (C)']],\n",
    "                  dtype=\"float32\").T\n",
    "print(target)"
   ]
  },
  {
   "cell_type": "code",
   "execution_count": 5,
   "id": "blank-poison",
   "metadata": {
    "execution": {
     "iopub.execute_input": "2021-06-13T22:54:24.578797Z",
     "iopub.status.busy": "2021-06-13T22:54:24.578284Z",
     "iopub.status.idle": "2021-06-13T22:54:24.653967Z",
     "shell.execute_reply": "2021-06-13T22:54:24.654372Z",
     "shell.execute_reply.started": "2021-06-13T22:53:30.452655Z"
    },
    "id": "3XbJ3tcpWdRB",
    "outputId": "84bc4ea6-e3a0-41bc-f300-e615b564dfea",
    "papermill": {
     "duration": 0.120389,
     "end_time": "2021-06-13T22:54:24.654538",
     "exception": false,
     "start_time": "2021-06-13T22:54:24.534149",
     "status": "completed"
    },
    "tags": []
   },
   "outputs": [
    {
     "name": "stdout",
     "output_type": "stream",
     "text": [
      "tensor([[8.9000e-01, 1.0151e+03, 1.4120e+01, 2.5100e+02],\n",
      "        [8.6000e-01, 1.0156e+03, 1.4265e+01, 2.5900e+02],\n",
      "        [8.9000e-01, 1.0159e+03, 3.9284e+00, 2.0400e+02],\n",
      "        ...,\n",
      "        [5.6000e-01, 1.0157e+03, 8.9838e+00, 3.0000e+01],\n",
      "        [6.0000e-01, 1.0160e+03, 1.0529e+01, 2.0000e+01],\n",
      "        [6.1000e-01, 1.0162e+03, 5.8765e+00, 3.9000e+01]])\n",
      "tensor([[ 7.3889,  9.4722],\n",
      "        [ 7.2278,  9.3556],\n",
      "        [ 9.3778,  9.3778],\n",
      "        ...,\n",
      "        [22.0389, 22.0389],\n",
      "        [21.5222, 21.5222],\n",
      "        [20.4389, 20.4389]])\n"
     ]
    }
   ],
   "source": [
    "input = torch.from_numpy(input)\n",
    "target = torch.from_numpy(target)\n",
    "print(input)\n",
    "print(target)"
   ]
  },
  {
   "cell_type": "code",
   "execution_count": 6,
   "id": "executive-connection",
   "metadata": {
    "execution": {
     "iopub.execute_input": "2021-06-13T22:54:24.687642Z",
     "iopub.status.busy": "2021-06-13T22:54:24.687087Z",
     "iopub.status.idle": "2021-06-13T22:54:24.696265Z",
     "shell.execute_reply": "2021-06-13T22:54:24.695797Z",
     "shell.execute_reply.started": "2021-06-13T22:53:30.465921Z"
    },
    "id": "xs8HwKqSW_j4",
    "papermill": {
     "duration": 0.028595,
     "end_time": "2021-06-13T22:54:24.696384",
     "exception": false,
     "start_time": "2021-06-13T22:54:24.667789",
     "status": "completed"
    },
    "tags": []
   },
   "outputs": [],
   "source": [
    "#declare random weight and bias\n",
    "w = torch.randn(2, 4, requires_grad=True,dtype=torch.float32)\n",
    "b = torch.randn(2, requires_grad=True, dtype=torch.float32)"
   ]
  },
  {
   "cell_type": "code",
   "execution_count": 7,
   "id": "blocked-desire",
   "metadata": {
    "execution": {
     "iopub.execute_input": "2021-06-13T22:54:24.727969Z",
     "iopub.status.busy": "2021-06-13T22:54:24.727427Z",
     "iopub.status.idle": "2021-06-13T22:54:24.731755Z",
     "shell.execute_reply": "2021-06-13T22:54:24.731287Z",
     "shell.execute_reply.started": "2021-06-13T22:53:30.474824Z"
    },
    "id": "oVrfiTTicpXs",
    "papermill": {
     "duration": 0.022193,
     "end_time": "2021-06-13T22:54:24.731879",
     "exception": false,
     "start_time": "2021-06-13T22:54:24.709686",
     "status": "completed"
    },
    "tags": []
   },
   "outputs": [],
   "source": [
    "# return (input*weight)+bias\n",
    "def SModel(x):\n",
    "    return x @ w.t() + b"
   ]
  },
  {
   "cell_type": "code",
   "execution_count": 8,
   "id": "ahead-transsexual",
   "metadata": {
    "execution": {
     "iopub.execute_input": "2021-06-13T22:54:24.764586Z",
     "iopub.status.busy": "2021-06-13T22:54:24.764064Z",
     "iopub.status.idle": "2021-06-13T22:54:24.766899Z",
     "shell.execute_reply": "2021-06-13T22:54:24.767338Z",
     "shell.execute_reply.started": "2021-06-13T22:53:30.489235Z"
    },
    "id": "cR3PuLtZev2t",
    "papermill": {
     "duration": 0.021618,
     "end_time": "2021-06-13T22:54:24.767474",
     "exception": false,
     "start_time": "2021-06-13T22:54:24.745856",
     "status": "completed"
    },
    "tags": []
   },
   "outputs": [],
   "source": [
    "#mean absolute error\n",
    "def MAE(t1, t2):\n",
    "    dif = torch.abs(t1 - t2)\n",
    "    return torch.sum(dif)/dif.numel()"
   ]
  },
  {
   "cell_type": "code",
   "execution_count": 9,
   "id": "funky-magazine",
   "metadata": {
    "execution": {
     "iopub.execute_input": "2021-06-13T22:54:24.801324Z",
     "iopub.status.busy": "2021-06-13T22:54:24.800668Z",
     "iopub.status.idle": "2021-06-13T22:56:19.819831Z",
     "shell.execute_reply": "2021-06-13T22:56:19.819373Z"
    },
    "id": "ziZ0EBeJgShG",
    "outputId": "4d1cb110-47b3-48c7-e473-fca34dea601a",
    "papermill": {
     "duration": 115.036739,
     "end_time": "2021-06-13T22:56:19.819945",
     "exception": false,
     "start_time": "2021-06-13T22:54:24.783206",
     "status": "completed"
    },
    "tags": []
   },
   "outputs": [
    {
     "name": "stdout",
     "output_type": "stream",
     "text": [
      "Loss:980.4078369140625 at epoch:0/30000\n",
      "Loss:68.36116790771484 at epoch:1000/30000\n",
      "Loss:47.74632263183594 at epoch:2000/30000\n",
      "Loss:27.66729736328125 at epoch:3000/30000\n",
      "Loss:12.721317291259766 at epoch:4000/30000\n",
      "Loss:11.877906799316406 at epoch:5000/30000\n",
      "Loss:11.812378883361816 at epoch:6000/30000\n",
      "Loss:11.749520301818848 at epoch:7000/30000\n",
      "Loss:11.68753433227539 at epoch:8000/30000\n",
      "Loss:11.626368522644043 at epoch:9000/30000\n",
      "Loss:11.565993309020996 at epoch:10000/30000\n",
      "Loss:11.506383895874023 at epoch:11000/30000\n",
      "Loss:11.447610855102539 at epoch:12000/30000\n",
      "Loss:11.38960075378418 at epoch:13000/30000\n",
      "Loss:11.332364082336426 at epoch:14000/30000\n",
      "Loss:11.2758207321167 at epoch:15000/30000\n",
      "Loss:11.22004222869873 at epoch:16000/30000\n",
      "Loss:11.165005683898926 at epoch:17000/30000\n",
      "Loss:11.110785484313965 at epoch:18000/30000\n",
      "Loss:11.057377815246582 at epoch:19000/30000\n",
      "Loss:11.004744529724121 at epoch:20000/30000\n",
      "Loss:10.952868461608887 at epoch:21000/30000\n",
      "Loss:10.901703834533691 at epoch:22000/30000\n",
      "Loss:10.85122013092041 at epoch:23000/30000\n",
      "Loss:10.801458358764648 at epoch:24000/30000\n",
      "Loss:10.752418518066406 at epoch:25000/30000\n",
      "Loss:10.704144477844238 at epoch:26000/30000\n",
      "Loss:10.656553268432617 at epoch:27000/30000\n",
      "Loss:10.609643936157227 at epoch:28000/30000\n",
      "Loss:10.56348705291748 at epoch:29000/30000\n",
      "Loss:10.518059730529785 at epoch:30000/30000\n"
     ]
    }
   ],
   "source": [
    "for i in range(30001):\n",
    "    pred = SModel(input)\n",
    "    loss = MAE(pred, target)\n",
    "    loss.backward()\n",
    "    with torch.no_grad():\n",
    "        w -= w.grad * 0.00001\n",
    "        b -= b.grad * 0.00001\n",
    "        w.grad.zero_()\n",
    "        b.grad.zero_()\n",
    "    if (i%1000==0 or i==10000):\n",
    "        print(\"Loss:{} at epoch:{}/30000\".format(loss, i))"
   ]
  },
  {
   "cell_type": "code",
   "execution_count": 10,
   "id": "catholic-arthur",
   "metadata": {
    "execution": {
     "iopub.execute_input": "2021-06-13T22:56:19.869865Z",
     "iopub.status.busy": "2021-06-13T22:56:19.869331Z",
     "iopub.status.idle": "2021-06-13T22:56:19.879398Z",
     "shell.execute_reply": "2021-06-13T22:56:19.880023Z"
    },
    "id": "DcpF54O-xhXV",
    "outputId": "083385bd-deac-4c93-a9c5-746549b2f168",
    "papermill": {
     "duration": 0.037774,
     "end_time": "2021-06-13T22:56:19.880205",
     "exception": false,
     "start_time": "2021-06-13T22:56:19.842431",
     "status": "completed"
    },
    "tags": []
   },
   "outputs": [
    {
     "name": "stdout",
     "output_type": "stream",
     "text": [
      "tensor([[17.0061, 16.3044]], grad_fn=<AddBackward0>)\n"
     ]
    }
   ],
   "source": [
    "#Sample test input for random value\n",
    "testInput = [[0.94, 1100, 15, 250]]\n",
    "testInput = torch.tensor(testInput, dtype=torch.float32)\n",
    "testPred = SModel(testInput)\n",
    "print(testPred)"
   ]
  },
  {
   "cell_type": "markdown",
   "id": "false-customer",
   "metadata": {
    "id": "tjq_hqXh5--d",
    "papermill": {
     "duration": 0.021644,
     "end_time": "2021-06-13T22:56:19.924686",
     "exception": false,
     "start_time": "2021-06-13T22:56:19.903042",
     "status": "completed"
    },
    "tags": []
   },
   "source": [
    "# **Using Build-In Functions**"
   ]
  },
  {
   "cell_type": "code",
   "execution_count": 11,
   "id": "raising-force",
   "metadata": {
    "execution": {
     "iopub.execute_input": "2021-06-13T22:56:19.975162Z",
     "iopub.status.busy": "2021-06-13T22:56:19.974610Z",
     "iopub.status.idle": "2021-06-13T22:56:19.978398Z",
     "shell.execute_reply": "2021-06-13T22:56:19.978910Z"
    },
    "id": "Vuw8Qfm261Ss",
    "papermill": {
     "duration": 0.031872,
     "end_time": "2021-06-13T22:56:19.979063",
     "exception": false,
     "start_time": "2021-06-13T22:56:19.947191",
     "status": "completed"
    },
    "tags": []
   },
   "outputs": [],
   "source": [
    "from torch.utils.data import TensorDataset, DataLoader\n",
    "import torch.nn as nn\n",
    "tstrain = TensorDataset(input, target)\n",
    "dltrain = DataLoader(tstrain, batch_size=5, shuffle=True)"
   ]
  },
  {
   "cell_type": "code",
   "execution_count": 12,
   "id": "apart-breakfast",
   "metadata": {
    "execution": {
     "iopub.execute_input": "2021-06-13T22:56:20.031902Z",
     "iopub.status.busy": "2021-06-13T22:56:20.031286Z",
     "iopub.status.idle": "2021-06-13T22:56:20.039454Z",
     "shell.execute_reply": "2021-06-13T22:56:20.038860Z"
    },
    "id": "Wm-6zHGY7jMk",
    "outputId": "3df77d28-57b4-4d0f-a373-ae6109b30704",
    "papermill": {
     "duration": 0.036503,
     "end_time": "2021-06-13T22:56:20.039601",
     "exception": false,
     "start_time": "2021-06-13T22:56:20.003098",
     "status": "completed"
    },
    "tags": []
   },
   "outputs": [
    {
     "data": {
      "text/plain": [
       "Parameter containing:\n",
       "tensor([ 0.2158, -0.2763], requires_grad=True)"
      ]
     },
     "execution_count": 12,
     "metadata": {},
     "output_type": "execute_result"
    }
   ],
   "source": [
    "model = nn.Linear(4, 2)\n",
    "model.bias"
   ]
  },
  {
   "cell_type": "code",
   "execution_count": 13,
   "id": "geological-darkness",
   "metadata": {
    "execution": {
     "iopub.execute_input": "2021-06-13T22:56:20.092261Z",
     "iopub.status.busy": "2021-06-13T22:56:20.091505Z",
     "iopub.status.idle": "2021-06-13T22:56:20.100724Z",
     "shell.execute_reply": "2021-06-13T22:56:20.100057Z"
    },
    "id": "xLlcnnexBKEf",
    "papermill": {
     "duration": 0.037579,
     "end_time": "2021-06-13T22:56:20.100877",
     "exception": false,
     "start_time": "2021-06-13T22:56:20.063298",
     "status": "completed"
    },
    "tags": []
   },
   "outputs": [],
   "source": [
    "preds = model(input)\n",
    "lossfn = nn.SmoothL1Loss()\n",
    "loss = lossfn(preds, target)\n",
    "op = torch.optim.SGD(model.parameters(), 0.00001)"
   ]
  },
  {
   "cell_type": "code",
   "execution_count": 14,
   "id": "chinese-grade",
   "metadata": {
    "execution": {
     "iopub.execute_input": "2021-06-13T22:56:20.176757Z",
     "iopub.status.busy": "2021-06-13T22:56:20.176056Z",
     "iopub.status.idle": "2021-06-13T22:56:20.181197Z",
     "shell.execute_reply": "2021-06-13T22:56:20.181784Z"
    },
    "id": "hahfxbnwMdCz",
    "papermill": {
     "duration": 0.044369,
     "end_time": "2021-06-13T22:56:20.181977",
     "exception": false,
     "start_time": "2021-06-13T22:56:20.137608",
     "status": "completed"
    },
    "tags": []
   },
   "outputs": [],
   "source": [
    "def fit(epochs, model, lossfn, op, dltrain):\n",
    "    for epoch in range(epochs):\n",
    "        for i, j in dltrain:\n",
    "            pred = model(i)\n",
    "            loss = lossfn(pred, j)\n",
    "            loss.backward()\n",
    "            op.step()\n",
    "            op.zero_grad()\n",
    "        if (epoch%10==0 or epoch==epochs):\n",
    "            print(\"Loss:{} at epoch:{}/{}\".format(loss, epoch+1, epochs))"
   ]
  },
  {
   "cell_type": "code",
   "execution_count": 15,
   "id": "oriented-inclusion",
   "metadata": {
    "execution": {
     "iopub.execute_input": "2021-06-13T22:56:20.257984Z",
     "iopub.status.busy": "2021-06-13T22:56:20.257195Z",
     "iopub.status.idle": "2021-06-13T23:00:01.337064Z",
     "shell.execute_reply": "2021-06-13T23:00:01.336310Z"
    },
    "id": "OudwcEYlN6QL",
    "outputId": "64e468c5-795d-4151-c687-68deb8faee4b",
    "papermill": {
     "duration": 221.120003,
     "end_time": "2021-06-13T23:00:01.337215",
     "exception": false,
     "start_time": "2021-06-13T22:56:20.217212",
     "status": "completed"
    },
    "tags": []
   },
   "outputs": [
    {
     "name": "stdout",
     "output_type": "stream",
     "text": [
      "Loss:7.902092456817627 at epoch:1/30\n",
      "Loss:9.365870475769043 at epoch:11/30\n",
      "Loss:4.161231994628906 at epoch:21/30\n"
     ]
    }
   ],
   "source": [
    "fit(30, model, lossfn, op, dltrain)"
   ]
  },
  {
   "cell_type": "code",
   "execution_count": 16,
   "id": "nearby-standing",
   "metadata": {
    "execution": {
     "iopub.execute_input": "2021-06-13T23:00:01.417495Z",
     "iopub.status.busy": "2021-06-13T23:00:01.416743Z",
     "iopub.status.idle": "2021-06-13T23:00:01.421433Z",
     "shell.execute_reply": "2021-06-13T23:00:01.421819Z"
    },
    "id": "FZXMTMlxO2Ti",
    "outputId": "685670a8-18f0-4cd5-8ac5-2733423d5134",
    "papermill": {
     "duration": 0.047864,
     "end_time": "2021-06-13T23:00:01.421984",
     "exception": false,
     "start_time": "2021-06-13T23:00:01.374120",
     "status": "completed"
    },
    "tags": []
   },
   "outputs": [
    {
     "data": {
      "text/plain": [
       "tensor([[ 9.6558, 12.6373]], grad_fn=<AddmmBackward>)"
      ]
     },
     "execution_count": 16,
     "metadata": {},
     "output_type": "execute_result"
    }
   ],
   "source": [
    "model(torch.tensor([[0.91, 1661, 24, 222]]))"
   ]
  }
 ],
 "metadata": {
  "kernelspec": {
   "display_name": "Python 3",
   "language": "python",
   "name": "python3"
  },
  "language_info": {
   "codemirror_mode": {
    "name": "ipython",
    "version": 3
   },
   "file_extension": ".py",
   "mimetype": "text/x-python",
   "name": "python",
   "nbconvert_exporter": "python",
   "pygments_lexer": "ipython3",
   "version": "3.7.10"
  },
  "papermill": {
   "default_parameters": {},
   "duration": 352.339212,
   "end_time": "2021-06-13T23:00:03.334585",
   "environment_variables": {},
   "exception": null,
   "input_path": "__notebook__.ipynb",
   "output_path": "__notebook__.ipynb",
   "parameters": {},
   "start_time": "2021-06-13T22:54:10.995373",
   "version": "2.3.3"
  }
 },
 "nbformat": 4,
 "nbformat_minor": 5
}
